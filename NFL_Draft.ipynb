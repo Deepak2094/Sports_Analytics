{
 "cells": [
  {
   "cell_type": "markdown",
   "metadata": {},
   "source": [
    "# Sport Analytics - Prediction Modeling"
   ]
  },
  {
   "cell_type": "code",
   "execution_count": 133,
   "metadata": {},
   "outputs": [],
   "source": [
    "#import required libraries\n",
    "import pandas as pd\n",
    "import numpy as np\n",
    "from sklearn.model_selection import train_test_split\n",
    "from sklearn.preprocessing import StandardScaler\n",
    "from sklearn.ensemble import RandomForestRegressor\n",
    "from sklearn.ensemble import RandomForestClassifier\n",
    "from sklearn.cluster import KMeans\n",
    "from sklearn.neighbors import KNeighborsClassifier\n",
    "\n",
    "from sklearn.metrics import roc_auc_score\n",
    "from sklearn.preprocessing import LabelEncoder\n",
    "from sklearn import metrics\n",
    "from matplotlib import pyplot as plt\n",
    "from sklearn.metrics import confusion_matrix, plot_confusion_matrix\n",
    "import seaborn\n",
    "from sklearn.preprocessing import StandardScaler\n",
    "from sklearn.cluster import KMeans"
   ]
  },
  {
   "cell_type": "code",
   "execution_count": 91,
   "metadata": {},
   "outputs": [],
   "source": [
    "#import required data\n",
    "\n",
    "df = pd.read_csv(\"/Users/deepak/Documents/DAEN/Sports Analytics/Project/data/combine_data.csv\")"
   ]
  },
  {
   "cell_type": "code",
   "execution_count": 92,
   "metadata": {},
   "outputs": [
    {
     "data": {
      "text/html": [
       "<div>\n",
       "<style scoped>\n",
       "    .dataframe tbody tr th:only-of-type {\n",
       "        vertical-align: middle;\n",
       "    }\n",
       "\n",
       "    .dataframe tbody tr th {\n",
       "        vertical-align: top;\n",
       "    }\n",
       "\n",
       "    .dataframe thead th {\n",
       "        text-align: right;\n",
       "    }\n",
       "</style>\n",
       "<table border=\"1\" class=\"dataframe\">\n",
       "  <thead>\n",
       "    <tr style=\"text-align: right;\">\n",
       "      <th></th>\n",
       "      <th>player_name_pfr</th>\n",
       "      <th>college_combine</th>\n",
       "      <th>Ht</th>\n",
       "      <th>Wt</th>\n",
       "      <th>X40yd</th>\n",
       "      <th>Vertical</th>\n",
       "      <th>Bench</th>\n",
       "      <th>Broad_Jump</th>\n",
       "      <th>X3Cone</th>\n",
       "      <th>Shuttle</th>\n",
       "      <th>pos_combine</th>\n",
       "      <th>combine_yr</th>\n",
       "      <th>Pick</th>\n",
       "      <th>Career_AV_New</th>\n",
       "      <th>draft_dummy</th>\n",
       "    </tr>\n",
       "  </thead>\n",
       "  <tbody>\n",
       "    <tr>\n",
       "      <th>0</th>\n",
       "      <td>Alan Reuber</td>\n",
       "      <td>Texas A&amp;M</td>\n",
       "      <td>78.0</td>\n",
       "      <td>323.0</td>\n",
       "      <td>5.49</td>\n",
       "      <td>29.0</td>\n",
       "      <td>26.0</td>\n",
       "      <td>98.0</td>\n",
       "      <td>7.95</td>\n",
       "      <td>4.91</td>\n",
       "      <td>OG</td>\n",
       "      <td>2004</td>\n",
       "      <td>300</td>\n",
       "      <td>0</td>\n",
       "      <td>0</td>\n",
       "    </tr>\n",
       "    <tr>\n",
       "      <th>2</th>\n",
       "      <td>Andrew Shull</td>\n",
       "      <td>Kansas State</td>\n",
       "      <td>77.0</td>\n",
       "      <td>265.0</td>\n",
       "      <td>4.90</td>\n",
       "      <td>30.5</td>\n",
       "      <td>16.0</td>\n",
       "      <td>107.0</td>\n",
       "      <td>7.46</td>\n",
       "      <td>4.28</td>\n",
       "      <td>DE</td>\n",
       "      <td>2004</td>\n",
       "      <td>300</td>\n",
       "      <td>0</td>\n",
       "      <td>0</td>\n",
       "    </tr>\n",
       "    <tr>\n",
       "      <th>4</th>\n",
       "      <td>Antonio Hall</td>\n",
       "      <td>Kentucky</td>\n",
       "      <td>75.0</td>\n",
       "      <td>317.0</td>\n",
       "      <td>5.54</td>\n",
       "      <td>26.5</td>\n",
       "      <td>27.0</td>\n",
       "      <td>101.0</td>\n",
       "      <td>8.12</td>\n",
       "      <td>4.55</td>\n",
       "      <td>OG</td>\n",
       "      <td>2004</td>\n",
       "      <td>300</td>\n",
       "      <td>0</td>\n",
       "      <td>0</td>\n",
       "    </tr>\n",
       "    <tr>\n",
       "      <th>5</th>\n",
       "      <td>Arnold Parker</td>\n",
       "      <td>Utah</td>\n",
       "      <td>74.0</td>\n",
       "      <td>213.0</td>\n",
       "      <td>4.54</td>\n",
       "      <td>35.5</td>\n",
       "      <td>18.0</td>\n",
       "      <td>120.0</td>\n",
       "      <td>6.98</td>\n",
       "      <td>4.12</td>\n",
       "      <td>S</td>\n",
       "      <td>2004</td>\n",
       "      <td>300</td>\n",
       "      <td>0</td>\n",
       "      <td>0</td>\n",
       "    </tr>\n",
       "    <tr>\n",
       "      <th>7</th>\n",
       "      <td>Adrian Jones</td>\n",
       "      <td>Kansas</td>\n",
       "      <td>76.0</td>\n",
       "      <td>296.0</td>\n",
       "      <td>4.97</td>\n",
       "      <td>31.0</td>\n",
       "      <td>27.0</td>\n",
       "      <td>114.0</td>\n",
       "      <td>7.81</td>\n",
       "      <td>4.58</td>\n",
       "      <td>OT</td>\n",
       "      <td>2004</td>\n",
       "      <td>132</td>\n",
       "      <td>14</td>\n",
       "      <td>1</td>\n",
       "    </tr>\n",
       "    <tr>\n",
       "      <th>...</th>\n",
       "      <td>...</td>\n",
       "      <td>...</td>\n",
       "      <td>...</td>\n",
       "      <td>...</td>\n",
       "      <td>...</td>\n",
       "      <td>...</td>\n",
       "      <td>...</td>\n",
       "      <td>...</td>\n",
       "      <td>...</td>\n",
       "      <td>...</td>\n",
       "      <td>...</td>\n",
       "      <td>...</td>\n",
       "      <td>...</td>\n",
       "      <td>...</td>\n",
       "      <td>...</td>\n",
       "    </tr>\n",
       "    <tr>\n",
       "      <th>5736</th>\n",
       "      <td>Raequan Williams</td>\n",
       "      <td>Michigan State</td>\n",
       "      <td>76.0</td>\n",
       "      <td>308.0</td>\n",
       "      <td>5.04</td>\n",
       "      <td>25.5</td>\n",
       "      <td>17.0</td>\n",
       "      <td>101.0</td>\n",
       "      <td>7.72</td>\n",
       "      <td>4.78</td>\n",
       "      <td>DL</td>\n",
       "      <td>2020</td>\n",
       "      <td>300</td>\n",
       "      <td>0</td>\n",
       "      <td>0</td>\n",
       "    </tr>\n",
       "    <tr>\n",
       "      <th>5746</th>\n",
       "      <td>Scottie Phillips</td>\n",
       "      <td>Mississippi</td>\n",
       "      <td>68.0</td>\n",
       "      <td>209.0</td>\n",
       "      <td>4.56</td>\n",
       "      <td>30.0</td>\n",
       "      <td>29.0</td>\n",
       "      <td>114.0</td>\n",
       "      <td>7.40</td>\n",
       "      <td>4.53</td>\n",
       "      <td>RB</td>\n",
       "      <td>2020</td>\n",
       "      <td>300</td>\n",
       "      <td>0</td>\n",
       "      <td>0</td>\n",
       "    </tr>\n",
       "    <tr>\n",
       "      <th>5770</th>\n",
       "      <td>Tristan Wirfs</td>\n",
       "      <td>Iowa</td>\n",
       "      <td>77.0</td>\n",
       "      <td>320.0</td>\n",
       "      <td>4.85</td>\n",
       "      <td>36.5</td>\n",
       "      <td>24.0</td>\n",
       "      <td>121.0</td>\n",
       "      <td>7.65</td>\n",
       "      <td>4.68</td>\n",
       "      <td>OL</td>\n",
       "      <td>2020</td>\n",
       "      <td>13</td>\n",
       "      <td>12</td>\n",
       "      <td>1</td>\n",
       "    </tr>\n",
       "    <tr>\n",
       "      <th>5780</th>\n",
       "      <td>Willie Gay Jr.</td>\n",
       "      <td>Mississippi State</td>\n",
       "      <td>73.0</td>\n",
       "      <td>243.0</td>\n",
       "      <td>4.46</td>\n",
       "      <td>39.5</td>\n",
       "      <td>21.0</td>\n",
       "      <td>136.0</td>\n",
       "      <td>7.08</td>\n",
       "      <td>4.30</td>\n",
       "      <td>LB</td>\n",
       "      <td>2020</td>\n",
       "      <td>63</td>\n",
       "      <td>5</td>\n",
       "      <td>1</td>\n",
       "    </tr>\n",
       "    <tr>\n",
       "      <th>5783</th>\n",
       "      <td>Zack Baun</td>\n",
       "      <td>Wisconsin</td>\n",
       "      <td>74.0</td>\n",
       "      <td>238.0</td>\n",
       "      <td>4.65</td>\n",
       "      <td>32.5</td>\n",
       "      <td>24.0</td>\n",
       "      <td>115.0</td>\n",
       "      <td>7.00</td>\n",
       "      <td>4.31</td>\n",
       "      <td>LB</td>\n",
       "      <td>2020</td>\n",
       "      <td>74</td>\n",
       "      <td>3</td>\n",
       "      <td>1</td>\n",
       "    </tr>\n",
       "  </tbody>\n",
       "</table>\n",
       "<p>2449 rows × 15 columns</p>\n",
       "</div>"
      ],
      "text/plain": [
       "       player_name_pfr    college_combine    Ht     Wt  X40yd  Vertical  \\\n",
       "0          Alan Reuber          Texas A&M  78.0  323.0   5.49      29.0   \n",
       "2         Andrew Shull       Kansas State  77.0  265.0   4.90      30.5   \n",
       "4         Antonio Hall           Kentucky  75.0  317.0   5.54      26.5   \n",
       "5        Arnold Parker               Utah  74.0  213.0   4.54      35.5   \n",
       "7         Adrian Jones             Kansas  76.0  296.0   4.97      31.0   \n",
       "...                ...                ...   ...    ...    ...       ...   \n",
       "5736  Raequan Williams     Michigan State  76.0  308.0   5.04      25.5   \n",
       "5746  Scottie Phillips        Mississippi  68.0  209.0   4.56      30.0   \n",
       "5770     Tristan Wirfs               Iowa  77.0  320.0   4.85      36.5   \n",
       "5780    Willie Gay Jr.  Mississippi State  73.0  243.0   4.46      39.5   \n",
       "5783         Zack Baun          Wisconsin  74.0  238.0   4.65      32.5   \n",
       "\n",
       "      Bench  Broad_Jump  X3Cone  Shuttle pos_combine  combine_yr  Pick  \\\n",
       "0      26.0        98.0    7.95     4.91          OG        2004   300   \n",
       "2      16.0       107.0    7.46     4.28          DE        2004   300   \n",
       "4      27.0       101.0    8.12     4.55          OG        2004   300   \n",
       "5      18.0       120.0    6.98     4.12           S        2004   300   \n",
       "7      27.0       114.0    7.81     4.58          OT        2004   132   \n",
       "...     ...         ...     ...      ...         ...         ...   ...   \n",
       "5736   17.0       101.0    7.72     4.78          DL        2020   300   \n",
       "5746   29.0       114.0    7.40     4.53          RB        2020   300   \n",
       "5770   24.0       121.0    7.65     4.68          OL        2020    13   \n",
       "5780   21.0       136.0    7.08     4.30          LB        2020    63   \n",
       "5783   24.0       115.0    7.00     4.31          LB        2020    74   \n",
       "\n",
       "      Career_AV_New  draft_dummy  \n",
       "0                 0            0  \n",
       "2                 0            0  \n",
       "4                 0            0  \n",
       "5                 0            0  \n",
       "7                14            1  \n",
       "...             ...          ...  \n",
       "5736              0            0  \n",
       "5746              0            0  \n",
       "5770             12            1  \n",
       "5780              5            1  \n",
       "5783              3            1  \n",
       "\n",
       "[2449 rows x 15 columns]"
      ]
     },
     "execution_count": 92,
     "metadata": {},
     "output_type": "execute_result"
    }
   ],
   "source": [
    "# checking the data in the data frame\n",
    "df.isna().sum()\n",
    "df.sample(10)\n",
    "clean_df = df.dropna()\n",
    "clean_df"
   ]
  },
  {
   "cell_type": "markdown",
   "metadata": {},
   "source": [
    "# Creating Models to Predict the Response Variable - \n",
    "### 1) Pick - Overall number of pick\n",
    "### 2) Career_AV_New - Career total Approximate Value of player*\n",
    "### 3) draft_dummy - Binary Variable"
   ]
  },
  {
   "cell_type": "markdown",
   "metadata": {},
   "source": [
    "# Section 1 : ML Models"
   ]
  },
  {
   "cell_type": "markdown",
   "metadata": {},
   "source": [
    "### Model 1 - Random Forest Regressor to Predict \"Pick\""
   ]
  },
  {
   "cell_type": "code",
   "execution_count": 93,
   "metadata": {},
   "outputs": [
    {
     "data": {
      "text/plain": [
       "array([[  78.  ,  323.  ,    5.49, ...,    7.95,    4.91, 2004.  ],\n",
       "       [  77.  ,  265.  ,    4.9 , ...,    7.46,    4.28, 2004.  ],\n",
       "       [  75.  ,  317.  ,    5.54, ...,    8.12,    4.55, 2004.  ],\n",
       "       ...,\n",
       "       [  77.  ,  320.  ,    4.85, ...,    7.65,    4.68, 2020.  ],\n",
       "       [  73.  ,  243.  ,    4.46, ...,    7.08,    4.3 , 2020.  ],\n",
       "       [  74.  ,  238.  ,    4.65, ...,    7.  ,    4.31, 2020.  ]])"
      ]
     },
     "execution_count": 93,
     "metadata": {},
     "output_type": "execute_result"
    }
   ],
   "source": [
    "# Splitting the data for Train and Test - 80% train, 20% test\n",
    "X = clean_df.iloc[:, [2,3,4,5,6,7,8,9,11]].values\n",
    "y = clean_df.iloc[:, 12].values\n",
    "X"
   ]
  },
  {
   "cell_type": "code",
   "execution_count": 94,
   "metadata": {},
   "outputs": [],
   "source": [
    "X_train, X_test, y_train, y_test = train_test_split(X, y, test_size=0.2, random_state=0)"
   ]
  },
  {
   "cell_type": "code",
   "execution_count": 95,
   "metadata": {},
   "outputs": [],
   "source": [
    "regressor = RandomForestRegressor(n_estimators=500, random_state=0)\n",
    "regressor.fit(X_train, y_train)\n",
    "y_pred = regressor.predict(X_test)\n"
   ]
  },
  {
   "cell_type": "code",
   "execution_count": 96,
   "metadata": {},
   "outputs": [
    {
     "name": "stdout",
     "output_type": "stream",
     "text": [
      "R-squared: 0.8886949716711293\n",
      "Mean Absolute Error: 81.21085714285714\n",
      "Mean Squared Error: 9025.662616391837\n",
      "Root Mean Squared Error: 95.00348739068392\n"
     ]
    }
   ],
   "source": [
    "score = regressor.score(X_train, y_train)\n",
    "print(\"R-squared:\", score)\n",
    "print('Mean Absolute Error:', metrics.mean_absolute_error(y_test, y_pred))\n",
    "print('Mean Squared Error:', metrics.mean_squared_error(y_test, y_pred))\n",
    "print('Root Mean Squared Error:', np.sqrt(metrics.mean_squared_error(y_test, y_pred)))"
   ]
  },
  {
   "cell_type": "code",
   "execution_count": 97,
   "metadata": {},
   "outputs": [
    {
     "data": {
      "text/plain": [
       "<matplotlib.axes._subplots.AxesSubplot at 0x7fd2b1cd9110>"
      ]
     },
     "execution_count": 97,
     "metadata": {},
     "output_type": "execute_result"
    },
    {
     "data": {
      "image/png": "[encoded data removed]",
      "text/plain": [
       "<Figure size 432x288 with 1 Axes>"
      ]
     },
     "metadata": {
      "needs_background": "light"
     },
     "output_type": "display_data"
    }
   ],
   "source": [
    "feats = {}\n",
    "for feature, importance in zip(clean_df.iloc[:, [2,3,4,5,6,7,8,9,11]].columns, regressor.feature_importances_):\n",
    "    feats[feature] = importance #add the name/value pair \n",
    "importances = pd.DataFrame.from_dict(feats, orient='index').rename(columns={0: 'Gini-importance'})\n",
    "importances.sort_values(by='Gini-importance').plot(kind='bar', rot=45)"
   ]
  },
  {
   "cell_type": "markdown",
   "metadata": {},
   "source": [
    "## X40yd followed by Wt and X3Cone are the most important variables in predicting Pick"
   ]
  },
  {
   "cell_type": "markdown",
   "metadata": {},
   "source": [
    "##  Model 2 - Random Forest Regressor to Predict \"Career_AV_New\""
   ]
  },
  {
   "cell_type": "code",
   "execution_count": 98,
   "metadata": {},
   "outputs": [
    {
     "name": "stdout",
     "output_type": "stream",
     "text": [
      "R-squared: 0.8736597349627359\n",
      "Mean Absolute Error: 12.864542857142858\n",
      "Mean Squared Error: 302.77048533061225\n",
      "Root Mean Squared Error: 17.40030129999513\n"
     ]
    },
    {
     "data": {
      "text/plain": [
       "<matplotlib.axes._subplots.AxesSubplot at 0x7fd2b2d3a8d0>"
      ]
     },
     "execution_count": 98,
     "metadata": {},
     "output_type": "execute_result"
    },
    {
     "data": {
      "image/png": "[encoded data removed]",
      "text/plain": [
       "<Figure size 432x288 with 1 Axes>"
      ]
     },
     "metadata": {
      "needs_background": "light"
     },
     "output_type": "display_data"
    }
   ],
   "source": [
    "# Splitting the data for Train and Test - 80% train, 20% test\n",
    "X = clean_df.iloc[:, [2,3,4,5,6,7,8,9,11]].values\n",
    "y = clean_df.iloc[:, 13].values\n",
    "X\n",
    "\n",
    "X_train, X_test, y_train, y_test = train_test_split(X, y, test_size=0.2, random_state=0)\n",
    "\n",
    "regressor = RandomForestRegressor(n_estimators=500, random_state=0)\n",
    "regressor.fit(X_train, y_train)\n",
    "y_pred = regressor.predict(X_test)\n",
    "\n",
    "\n",
    "score = regressor.score(X_train, y_train)\n",
    "print(\"R-squared:\", score)\n",
    "print('Mean Absolute Error:', metrics.mean_absolute_error(y_test, y_pred))\n",
    "print('Mean Squared Error:', metrics.mean_squared_error(y_test, y_pred))\n",
    "print('Root Mean Squared Error:', np.sqrt(metrics.mean_squared_error(y_test, y_pred)))\n",
    "\n",
    "feats = {}\n",
    "for feature, importance in zip(clean_df.iloc[:, [2,3,4,5,6,7,8,9,11]].columns, regressor.feature_importances_):\n",
    "    feats[feature] = importance #add the name/value pair \n",
    "importances = pd.DataFrame.from_dict(feats, orient='index').rename(columns={0: 'Gini-importance'})\n",
    "importances.sort_values(by='Gini-importance').plot(kind='bar', rot=45)"
   ]
  },
  {
   "cell_type": "markdown",
   "metadata": {},
   "source": [
    "## Wt, followed by X40yd and X3Cone are the most important variables in predicting Pick"
   ]
  },
  {
   "cell_type": "markdown",
   "metadata": {},
   "source": [
    "##  Model 3 - Random Forest Regressor to Predict \"draft_dummy\""
   ]
  },
  {
   "cell_type": "code",
   "execution_count": 125,
   "metadata": {},
   "outputs": [
    {
     "name": "stdout",
     "output_type": "stream",
     "text": [
      "roc_value 0.6811152431465789\n"
     ]
    }
   ],
   "source": [
    "# Splitting the data for Train and Test - 80% train, 20% test\n",
    "X = clean_df.iloc[:, [2,3,4,5,6,7,8,9,11]].values\n",
    "y = clean_df.iloc[:, 14].values\n",
    "X\n",
    "\n",
    "X_train, X_test, y_train, y_test = train_test_split(X, y, test_size=0.2, random_state=0)\n",
    "\n",
    "model = RandomForestClassifier(n_estimators=100, random_state=0)\n",
    "model.fit(X_train, y_train)\n",
    "rf_predictions = model.predict(X_test) \n",
    "# Probabilities for each class\n",
    "rf_probs = model.predict_proba(X_test)[:, 1]\n",
    "\n",
    "# Calculate roc auc\n",
    "roc_value = roc_auc_score(y_test, rf_probs)\n",
    "print(\"roc_value\", roc_value)"
   ]
  },
  {
   "cell_type": "code",
   "execution_count": 123,
   "metadata": {},
   "outputs": [
    {
     "name": "stdout",
     "output_type": "stream",
     "text": [
      "[[ 40 101]\n",
      " [ 46 303]]\n"
     ]
    },
    {
     "data": {
      "image/png": "[encoded data removed]",
      "text/plain": [
       "<Figure size 432x288 with 2 Axes>"
      ]
     },
     "metadata": {
      "needs_background": "light"
     },
     "output_type": "display_data"
    }
   ],
   "source": [
    "# Confusion Matrix\n",
    "conf_mat = confusion_matrix(y_test, rf_predictions)\n",
    "print(conf_mat)\n",
    "\n",
    "labels = ['business', 'health']\n",
    "fig = plt.figure()\n",
    "ax = fig.add_subplot(111)\n",
    "cax = ax.matshow(conf_mat)\n",
    "plt.title('Confusion matrix of the classifier')\n",
    "fig.colorbar(cax)\n",
    "ax.set_xticklabels([''] + labels)\n",
    "ax.set_yticklabels([''] + labels)\n",
    "plt.xlabel('Predicted')\n",
    "plt.ylabel('True')\n",
    "plt.show()"
   ]
  },
  {
   "cell_type": "markdown",
   "metadata": {},
   "source": [
    "## Section 2: Clustering"
   ]
  },
  {
   "cell_type": "code",
   "execution_count": 128,
   "metadata": {},
   "outputs": [
    {
     "data": {
      "text/plain": [
       "StandardScaler(copy=True, with_mean=True, with_std=True)"
      ]
     },
     "execution_count": 128,
     "metadata": {},
     "output_type": "execute_result"
    }
   ],
   "source": [
    "X = np.array(clean_df[['Ht','Wt','X40yd','Vertical','Bench','Broad_Jump','X3Cone','Shuttle']])\n",
    "Y = np.array(clean_df['pos_combine'])\n",
    "scaler = StandardScaler()\n",
    "#fitting scaler to the feature\n",
    "scaler.fit(X)"
   ]
  },
  {
   "cell_type": "code",
   "execution_count": 129,
   "metadata": {},
   "outputs": [],
   "source": [
    "#Use the .transform() method to transform the features into a scaled version.\n",
    "scaled_features = scaler.transform(X)"
   ]
  },
  {
   "cell_type": "code",
   "execution_count": 130,
   "metadata": {},
   "outputs": [
    {
     "data": {
      "text/html": [
       "<div>\n",
       "<style scoped>\n",
       "    .dataframe tbody tr th:only-of-type {\n",
       "        vertical-align: middle;\n",
       "    }\n",
       "\n",
       "    .dataframe tbody tr th {\n",
       "        vertical-align: top;\n",
       "    }\n",
       "\n",
       "    .dataframe thead th {\n",
       "        text-align: right;\n",
       "    }\n",
       "</style>\n",
       "<table border=\"1\" class=\"dataframe\">\n",
       "  <thead>\n",
       "    <tr style=\"text-align: right;\">\n",
       "      <th></th>\n",
       "      <th>0</th>\n",
       "      <th>1</th>\n",
       "      <th>2</th>\n",
       "      <th>3</th>\n",
       "      <th>4</th>\n",
       "      <th>5</th>\n",
       "      <th>6</th>\n",
       "      <th>7</th>\n",
       "    </tr>\n",
       "  </thead>\n",
       "  <tbody>\n",
       "    <tr>\n",
       "      <th>0</th>\n",
       "      <td>1.488960</td>\n",
       "      <td>1.583091</td>\n",
       "      <td>2.212983</td>\n",
       "      <td>-0.846798</td>\n",
       "      <td>0.774667</td>\n",
       "      <td>-1.686844</td>\n",
       "      <td>1.627399</td>\n",
       "      <td>1.890918</td>\n",
       "    </tr>\n",
       "    <tr>\n",
       "      <th>1</th>\n",
       "      <td>1.116948</td>\n",
       "      <td>0.312148</td>\n",
       "      <td>0.340787</td>\n",
       "      <td>-0.497083</td>\n",
       "      <td>-0.793493</td>\n",
       "      <td>-0.736539</td>\n",
       "      <td>0.442986</td>\n",
       "      <td>-0.478981</td>\n",
       "    </tr>\n",
       "    <tr>\n",
       "      <th>2</th>\n",
       "      <td>0.372923</td>\n",
       "      <td>1.451614</td>\n",
       "      <td>2.371644</td>\n",
       "      <td>-1.429656</td>\n",
       "      <td>0.931483</td>\n",
       "      <td>-1.370075</td>\n",
       "      <td>2.038317</td>\n",
       "      <td>0.536690</td>\n",
       "    </tr>\n",
       "    <tr>\n",
       "      <th>3</th>\n",
       "      <td>0.000911</td>\n",
       "      <td>-0.827318</td>\n",
       "      <td>-0.801570</td>\n",
       "      <td>0.668633</td>\n",
       "      <td>-0.479861</td>\n",
       "      <td>0.636123</td>\n",
       "      <td>-0.717254</td>\n",
       "      <td>-1.080860</td>\n",
       "    </tr>\n",
       "    <tr>\n",
       "      <th>4</th>\n",
       "      <td>0.744936</td>\n",
       "      <td>0.991445</td>\n",
       "      <td>0.562912</td>\n",
       "      <td>-0.380512</td>\n",
       "      <td>0.931483</td>\n",
       "      <td>0.002587</td>\n",
       "      <td>1.288995</td>\n",
       "      <td>0.649542</td>\n",
       "    </tr>\n",
       "    <tr>\n",
       "      <th>...</th>\n",
       "      <td>...</td>\n",
       "      <td>...</td>\n",
       "      <td>...</td>\n",
       "      <td>...</td>\n",
       "      <td>...</td>\n",
       "      <td>...</td>\n",
       "      <td>...</td>\n",
       "      <td>...</td>\n",
       "    </tr>\n",
       "    <tr>\n",
       "      <th>2444</th>\n",
       "      <td>0.744936</td>\n",
       "      <td>1.254399</td>\n",
       "      <td>0.785037</td>\n",
       "      <td>-1.662800</td>\n",
       "      <td>-0.636677</td>\n",
       "      <td>-1.370075</td>\n",
       "      <td>1.071450</td>\n",
       "      <td>1.401891</td>\n",
       "    </tr>\n",
       "    <tr>\n",
       "      <th>2445</th>\n",
       "      <td>-2.231161</td>\n",
       "      <td>-0.914969</td>\n",
       "      <td>-0.738106</td>\n",
       "      <td>-0.613655</td>\n",
       "      <td>1.245116</td>\n",
       "      <td>0.002587</td>\n",
       "      <td>0.297956</td>\n",
       "      <td>0.461455</td>\n",
       "    </tr>\n",
       "    <tr>\n",
       "      <th>2446</th>\n",
       "      <td>1.116948</td>\n",
       "      <td>1.517353</td>\n",
       "      <td>0.182126</td>\n",
       "      <td>0.901776</td>\n",
       "      <td>0.461035</td>\n",
       "      <td>0.741713</td>\n",
       "      <td>0.902248</td>\n",
       "      <td>1.025717</td>\n",
       "    </tr>\n",
       "    <tr>\n",
       "      <th>2447</th>\n",
       "      <td>-0.371101</td>\n",
       "      <td>-0.169934</td>\n",
       "      <td>-1.055427</td>\n",
       "      <td>1.601206</td>\n",
       "      <td>-0.009413</td>\n",
       "      <td>2.325554</td>\n",
       "      <td>-0.475538</td>\n",
       "      <td>-0.403746</td>\n",
       "    </tr>\n",
       "    <tr>\n",
       "      <th>2448</th>\n",
       "      <td>0.000911</td>\n",
       "      <td>-0.279498</td>\n",
       "      <td>-0.452517</td>\n",
       "      <td>-0.030797</td>\n",
       "      <td>0.461035</td>\n",
       "      <td>0.108176</td>\n",
       "      <td>-0.668911</td>\n",
       "      <td>-0.366129</td>\n",
       "    </tr>\n",
       "  </tbody>\n",
       "</table>\n",
       "<p>2449 rows × 8 columns</p>\n",
       "</div>"
      ],
      "text/plain": [
       "             0         1         2         3         4         5         6  \\\n",
       "0     1.488960  1.583091  2.212983 -0.846798  0.774667 -1.686844  1.627399   \n",
       "1     1.116948  0.312148  0.340787 -0.497083 -0.793493 -0.736539  0.442986   \n",
       "2     0.372923  1.451614  2.371644 -1.429656  0.931483 -1.370075  2.038317   \n",
       "3     0.000911 -0.827318 -0.801570  0.668633 -0.479861  0.636123 -0.717254   \n",
       "4     0.744936  0.991445  0.562912 -0.380512  0.931483  0.002587  1.288995   \n",
       "...        ...       ...       ...       ...       ...       ...       ...   \n",
       "2444  0.744936  1.254399  0.785037 -1.662800 -0.636677 -1.370075  1.071450   \n",
       "2445 -2.231161 -0.914969 -0.738106 -0.613655  1.245116  0.002587  0.297956   \n",
       "2446  1.116948  1.517353  0.182126  0.901776  0.461035  0.741713  0.902248   \n",
       "2447 -0.371101 -0.169934 -1.055427  1.601206 -0.009413  2.325554 -0.475538   \n",
       "2448  0.000911 -0.279498 -0.452517 -0.030797  0.461035  0.108176 -0.668911   \n",
       "\n",
       "             7  \n",
       "0     1.890918  \n",
       "1    -0.478981  \n",
       "2     0.536690  \n",
       "3    -1.080860  \n",
       "4     0.649542  \n",
       "...        ...  \n",
       "2444  1.401891  \n",
       "2445  0.461455  \n",
       "2446  1.025717  \n",
       "2447 -0.403746  \n",
       "2448 -0.366129  \n",
       "\n",
       "[2449 rows x 8 columns]"
      ]
     },
     "execution_count": 130,
     "metadata": {},
     "output_type": "execute_result"
    }
   ],
   "source": [
    "#Converting the scaled features to a dataframe and check the dataframe to make sure the scaling worked.\n",
    "df_feat = pd.DataFrame(scaled_features) \n",
    "df_feat"
   ]
  },
  {
   "cell_type": "code",
   "execution_count": 131,
   "metadata": {},
   "outputs": [
    {
     "name": "stdout",
     "output_type": "stream",
     "text": [
      "(1836, 8)\n",
      "(613, 8)\n"
     ]
    }
   ],
   "source": [
    "X_train, X_test, Y_train, Y_test = train_test_split(scaled_features, Y, test_size=0.25, random_state=0)\n",
    "print(X_train.shape)\n",
    "print(X_test.shape)"
   ]
  },
  {
   "cell_type": "code",
   "execution_count": 134,
   "metadata": {},
   "outputs": [
    {
     "data": {
      "text/plain": [
       "KNeighborsClassifier(algorithm='auto', leaf_size=30, metric='minkowski',\n",
       "                     metric_params=None, n_jobs=None, n_neighbors=10, p=2,\n",
       "                     weights='uniform')"
      ]
     },
     "execution_count": 134,
     "metadata": {},
     "output_type": "execute_result"
    }
   ],
   "source": [
    "knn = KNeighborsClassifier(n_neighbors=10)\n",
    "knn.fit(X_train, Y_train)"
   ]
  },
  {
   "cell_type": "code",
   "execution_count": 135,
   "metadata": {},
   "outputs": [],
   "source": [
    "# making prediction\n",
    "y_pred = knn.predict(X_test)"
   ]
  },
  {
   "cell_type": "code",
   "execution_count": 136,
   "metadata": {},
   "outputs": [
    {
     "name": "stdout",
     "output_type": "stream",
     "text": [
      "Accuracy: 0.4632952691680261\n"
     ]
    }
   ],
   "source": [
    "# Model Accuracy, how often is the classifier correct?\n",
    "print(\"Accuracy:\",metrics.accuracy_score(Y_test, y_pred))"
   ]
  }
 ],
 "metadata": {
  "kernelspec": {
   "display_name": "Python 3",
   "language": "python",
   "name": "python3"
  },
  "language_info": {
   "codemirror_mode": {
    "name": "ipython",
    "version": 3
   },
   "file_extension": ".py",
   "mimetype": "text/x-python",
   "name": "python",
   "nbconvert_exporter": "python",
   "pygments_lexer": "ipython3",
   "version": "3.7.6"
  }
 },
 "nbformat": 4,
 "nbformat_minor": 4
}
